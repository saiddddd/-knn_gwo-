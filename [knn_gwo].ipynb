{
 "cells": [
  {
   "cell_type": "code",
   "execution_count": null,
   "id": "0114b340",
   "metadata": {},
   "outputs": [],
   "source": []
  },
  {
   "cell_type": "code",
   "execution_count": 1,
   "id": "8600e51d",
   "metadata": {},
   "outputs": [],
   "source": [
    "from sklearn.datasets import load_breast_cancer\n",
    "import pandas as pd\n",
    "\n",
    "data = load_breast_cancer()\n",
    "\n",
    "\n",
    "data_df = pd.DataFrame(data = data.data,\n",
    "                       columns = data.feature_names)\n",
    "data_df['target'] = data.target\n",
    "data = data_df"
   ]
  },
  {
   "cell_type": "code",
   "execution_count": null,
   "id": "f5a7892d",
   "metadata": {},
   "outputs": [],
   "source": []
  },
  {
   "cell_type": "code",
   "execution_count": null,
   "id": "a33e36ba",
   "metadata": {},
   "outputs": [],
   "source": []
  },
  {
   "cell_type": "code",
   "execution_count": null,
   "id": "a0a87873",
   "metadata": {},
   "outputs": [],
   "source": []
  },
  {
   "cell_type": "code",
   "execution_count": 2,
   "id": "d2548a02",
   "metadata": {},
   "outputs": [
    {
     "name": "stdout",
     "output_type": "stream",
     "text": [
      "Iterasi: 0 | Akurasi: 1.0 | K terbaik: 1\n",
      "Iterasi: 1 | Akurasi: 1.0 | K terbaik: 5\n",
      "Iterasi: 2 | Akurasi: 1.0 | K terbaik: 10\n",
      "Iterasi: 3 | Akurasi: 1.0 | K terbaik: 10\n",
      "Iterasi: 4 | Akurasi: 1.0 | K terbaik: 10\n",
      "Iterasi: 5 | Akurasi: 1.0 | K terbaik: 10\n",
      "Iterasi: 6 | Akurasi: 1.0 | K terbaik: 10\n",
      "Iterasi: 7 | Akurasi: 1.0 | K terbaik: 10\n",
      "Iterasi: 8 | Akurasi: 1.0 | K terbaik: 10\n",
      "Iterasi: 9 | Akurasi: 1.0 | K terbaik: 10\n",
      "Nilai K terbaik: 10\n"
     ]
    }
   ],
   "source": [
    "from sklearn.datasets import load_iris\n",
    "from sklearn.model_selection import train_test_split\n",
    "from sklearn.neighbors import KNeighborsClassifier\n",
    "from sklearn.metrics import accuracy_score, roc_auc_score\n",
    "import numpy as np\n",
    "\n",
    "np.random.seed(42)\n",
    "\n",
    "class GreyWolfOptimizer:\n",
    "    def __init__(self):\n",
    "        self.search_space = None\n",
    "        self.population = None\n",
    "        self.fitness = None\n",
    "        self.leader_position = None\n",
    "        self.leader_fitness = None\n",
    "        self.best_solution = None\n",
    "\n",
    "    def initialize_search_space(self, lower_bound, upper_bound):\n",
    "        self.search_space = np.vstack((lower_bound, upper_bound))\n",
    "\n",
    "    def initialize_population(self, population_size=10):\n",
    "        num_features = self.search_space.shape[1]\n",
    "        self.population = np.random.uniform(low=self.search_space[0], high=self.search_space[1], size=(population_size, num_features))\n",
    "        self.fitness = np.zeros(population_size)\n",
    "\n",
    "    def calculate_fitness(self, X_train, y_train):\n",
    "        for i, wolf in enumerate(self.population):\n",
    "            k = int(round(wolf[0]))\n",
    "            k = max(1, k)\n",
    "\n",
    "            knn = KNeighborsClassifier(n_neighbors=k)\n",
    "            knn.fit(X_train, y_train)\n",
    "            self.fitness[i] = knn.score(X_train, y_train)\n",
    "\n",
    "    def update_leader_positions(self):\n",
    "        leader_index = np.argmax(self.fitness)\n",
    "        self.leader_position = self.population[leader_index]\n",
    "        self.leader_fitness = self.fitness[leader_index]\n",
    "        self.best_solution = self.leader_position.copy()\n",
    "\n",
    "    def update_positions(self, iteration, max_iterations):\n",
    "        a = 2 - iteration * ((2) / max_iterations)\n",
    "\n",
    "        num_wolves = self.population.shape[0]\n",
    "        for i in range(num_wolves):\n",
    "            A1 = 2 * np.random.rand() - 1\n",
    "            C1 = 2 * np.random.rand()\n",
    "            D_alpha = np.abs(C1 * self.leader_position - self.population[i])\n",
    "            X1 = self.leader_position - A1 * D_alpha\n",
    "\n",
    "            r1 = np.random.rand()\n",
    "            A2 = 2 * r1 - 1\n",
    "            C2 = 2 * np.random.rand()\n",
    "            D_beta = np.abs(C2 * self.leader_position - self.population[i])\n",
    "            X2 = self.leader_position - A2 * D_beta\n",
    "\n",
    "            r2 = np.random.rand()\n",
    "            A3 = 2 * r2 - 1\n",
    "            C3 = 2 * np.random.rand()\n",
    "            D_delta = np.abs(C3 * self.population[i] - self.population[i])\n",
    "            X3 = self.population[i] - A3 * D_delta\n",
    "\n",
    "            updated_wolf = (X1 + X2 + X3) / 3\n",
    "            updated_wolf = np.clip(updated_wolf, self.search_space[0], self.search_space[1])\n",
    "            self.population[i] = updated_wolf\n",
    "\n",
    "            # Increment k value\n",
    "            self.population[i][0] = self.population[i][0] + a\n",
    "\n",
    "    def get_best_solution(self):\n",
    "        return self.best_solution\n",
    "\n",
    "\n",
    "def knn_gwo(X_train, y_train, X_test, y_test, gwo_iterations=10):\n",
    "    lower_bound = [1, 0.01]\n",
    "    upper_bound = [10, 0.99]\n",
    "\n",
    "    gwo = GreyWolfOptimizer()\n",
    "    gwo.initialize_search_space(lower_bound, upper_bound)\n",
    "    gwo.initialize_population()\n",
    "\n",
    "    best_accuracy = 0.0\n",
    "    best_k = 1\n",
    "\n",
    "    for iteration in range(gwo_iterations):\n",
    "        gwo.calculate_fitness(X_train, y_train)\n",
    "        gwo.update_leader_positions()\n",
    "        gwo.update_positions(iteration, gwo_iterations)\n",
    "\n",
    "        best_solution = gwo.get_best_solution()\n",
    "        k = int(round(best_solution[0]))\n",
    "        k = max(1, k)\n",
    "\n",
    "        knn = KNeighborsClassifier(n_neighbors=k)\n",
    "        knn.fit(X_train, y_train)\n",
    "        y_pred = knn.predict(X_test)\n",
    "        accuracy = accuracy_score(y_test, y_pred)\n",
    "\n",
    "        if accuracy >= best_accuracy:\n",
    "            best_accuracy = accuracy\n",
    "            best_k = k\n",
    "\n",
    "        print(\"Iterasi:\", iteration, \"| Akurasi:\", accuracy, \"| K terbaik:\", best_k)\n",
    "\n",
    "    return best_k\n",
    "\n",
    "\n",
    "# Contoh penggunaan dengan dataset iris\n",
    "iris = load_iris()\n",
    "X = iris.data\n",
    "y = iris.target\n",
    "\n",
    "X_train, X_test, y_train, y_test = train_test_split(X, y, test_size=0.2, random_state=42)\n",
    "\n",
    "k_best = knn_gwo(X_train, y_train, X_test, y_test, gwo_iterations=10)\n",
    "print(\"Nilai K terbaik:\", k_best)\n"
   ]
  },
  {
   "cell_type": "code",
   "execution_count": 3,
   "id": "17ef66d3",
   "metadata": {},
   "outputs": [],
   "source": [
    "X = data.iloc[:,:30].values\n",
    "y = data['target'].values\n",
    "\n",
    "X_train, X_test, y_train, y_test = train_test_split(X, y, test_size=0.2, random_state=42)"
   ]
  },
  {
   "cell_type": "code",
   "execution_count": 4,
   "id": "5c6d0d55",
   "metadata": {},
   "outputs": [
    {
     "name": "stdout",
     "output_type": "stream",
     "text": [
      "Iterasi: 0 | Akurasi: 0.9298245614035088 | K terbaik: 1\n",
      "Iterasi: 1 | Akurasi: 0.9385964912280702 | K terbaik: 4\n",
      "Iterasi: 2 | Akurasi: 0.956140350877193 | K terbaik: 7\n",
      "Iterasi: 3 | Akurasi: 0.956140350877193 | K terbaik: 8\n",
      "Iterasi: 4 | Akurasi: 0.956140350877193 | K terbaik: 8\n",
      "Iterasi: 5 | Akurasi: 0.9824561403508771 | K terbaik: 11\n",
      "Iterasi: 6 | Akurasi: 0.9824561403508771 | K terbaik: 11\n",
      "Iterasi: 7 | Akurasi: 0.956140350877193 | K terbaik: 11\n",
      "Iterasi: 8 | Akurasi: 0.956140350877193 | K terbaik: 11\n",
      "Iterasi: 9 | Akurasi: 0.9298245614035088 | K terbaik: 11\n",
      "Nilai K terbaik: 11\n"
     ]
    }
   ],
   "source": [
    "k_best = knn_gwo(X_train, y_train, X_test, y_test, gwo_iterations=10)\n",
    "print(\"Nilai K terbaik:\", k_best)"
   ]
  },
  {
   "cell_type": "code",
   "execution_count": 5,
   "id": "8b4c389b",
   "metadata": {},
   "outputs": [
    {
     "name": "stdout",
     "output_type": "stream",
     "text": [
      "0.9736842105263158\n",
      "0.969701932525385\n"
     ]
    }
   ],
   "source": [
    "knn = KNeighborsClassifier(n_neighbors=10)\n",
    "knn.fit(X_train, y_train)\n",
    "\n",
    "y_pred = knn.predict(X_test)\n",
    "acc = accuracy_score(y_test, y_pred,)\n",
    "print(acc)\n",
    "print(roc_auc_score(y_test, y_pred))"
   ]
  },
  {
   "cell_type": "code",
   "execution_count": 6,
   "id": "1aa47235",
   "metadata": {},
   "outputs": [
    {
     "name": "stdout",
     "output_type": "stream",
     "text": [
      "0.9824561403508771\n",
      "0.9767441860465117\n"
     ]
    }
   ],
   "source": [
    "knn = KNeighborsClassifier(n_neighbors=11)\n",
    "knn.fit(X_train, y_train)\n",
    "\n",
    "y_pred = knn.predict(X_test)\n",
    "acc = accuracy_score(y_test, y_pred,)\n",
    "print(acc)\n",
    "print(roc_auc_score(y_test, y_pred))"
   ]
  },
  {
   "cell_type": "code",
   "execution_count": null,
   "id": "3b07108f",
   "metadata": {},
   "outputs": [],
   "source": []
  },
  {
   "cell_type": "code",
   "execution_count": null,
   "id": "3dad6988",
   "metadata": {},
   "outputs": [],
   "source": []
  },
  {
   "cell_type": "code",
   "execution_count": null,
   "id": "7916e6cb",
   "metadata": {},
   "outputs": [],
   "source": []
  },
  {
   "cell_type": "code",
   "execution_count": null,
   "id": "40e4a0fb",
   "metadata": {},
   "outputs": [],
   "source": []
  },
  {
   "cell_type": "code",
   "execution_count": null,
   "id": "ff579589",
   "metadata": {},
   "outputs": [],
   "source": []
  },
  {
   "cell_type": "code",
   "execution_count": null,
   "id": "922c3620",
   "metadata": {},
   "outputs": [],
   "source": []
  },
  {
   "cell_type": "code",
   "execution_count": null,
   "id": "5489586c",
   "metadata": {},
   "outputs": [],
   "source": []
  },
  {
   "cell_type": "code",
   "execution_count": null,
   "id": "6e4529ac",
   "metadata": {},
   "outputs": [],
   "source": []
  }
 ],
 "metadata": {
  "kernelspec": {
   "display_name": "Python 3 (ipykernel)",
   "language": "python",
   "name": "python3"
  },
  "language_info": {
   "codemirror_mode": {
    "name": "ipython",
    "version": 3
   },
   "file_extension": ".py",
   "mimetype": "text/x-python",
   "name": "python",
   "nbconvert_exporter": "python",
   "pygments_lexer": "ipython3",
   "version": "3.10.9"
  },
  "varInspector": {
   "cols": {
    "lenName": 16,
    "lenType": 16,
    "lenVar": 40
   },
   "kernels_config": {
    "python": {
     "delete_cmd_postfix": "",
     "delete_cmd_prefix": "del ",
     "library": "var_list.py",
     "varRefreshCmd": "print(var_dic_list())"
    },
    "r": {
     "delete_cmd_postfix": ") ",
     "delete_cmd_prefix": "rm(",
     "library": "var_list.r",
     "varRefreshCmd": "cat(var_dic_list()) "
    }
   },
   "types_to_exclude": [
    "module",
    "function",
    "builtin_function_or_method",
    "instance",
    "_Feature"
   ],
   "window_display": false
  }
 },
 "nbformat": 4,
 "nbformat_minor": 5
}
